{
 "cells": [
  {
   "cell_type": "markdown",
   "metadata": {},
   "source": [
    "# Criterios de evaluación.\n",
    "\n",
    "* Se deben utilizar nombres de variables descriptivos y claros (Utilizar la nomeclatura correspondiente para los nombres de variables).\n",
    "* Comentarios claros y concisos que expliquen el propósito de cada sección del código.\n",
    "* Entrega en tiempo y forma.\n",
    "* Todo el código desarrollado debe ser subido a un repositorio en GitHub (el nombre del repositorio de seguir la siguiente estructura: tp1_tlp3_nombre_apellido).\n",
    "\n",
    "\n",
    "**Aclaración: Para resolver las actividades se debe incertar casillas de codigo entre cada actividad del cuaderno de Jupyter**"
   ]
  },
  {
   "cell_type": "markdown",
   "metadata": {},
   "source": [
    "### 1. **Hola Mundo y Variables**\n",
    "\n",
    "   - **Actividad 1.1**: Deben escribir un programa que imprima \"¡Hola, Mundo!\" en la consola.\n",
    "   - **Actividad 1.2**: Deben crear una variable llamada `nombre` y hacer que el programa imprima un saludo personalizado: `Hola, <nombre>!`"
   ]
  },
  {
   "cell_type": "code",
   "execution_count": null,
   "metadata": {},
   "outputs": [
    {
     "name": "stdout",
     "output_type": "stream",
     "text": [
      "Hello, World!\n"
     ]
    }
   ],
   "source": [
    "\n",
    "#1.1\n",
    "print('Hola, Mundo!')"
   ]
  },
  {
   "cell_type": "code",
   "execution_count": 4,
   "metadata": {},
   "outputs": [
    {
     "name": "stdout",
     "output_type": "stream",
     "text": [
      "Hola, gaston!\n"
     ]
    }
   ],
   "source": [
    "#1.2\n",
    "nombre_persona = input('¿Cómo te llamas? ')\n",
    "print('Hola, ' + nombre_persona + '!')"
   ]
  },
  {
   "cell_type": "markdown",
   "metadata": {},
   "source": [
    "### 2. **Operaciones Matemáticas Básicas**\n",
    "\n",
    "   - **Actividad 1.1**: Crear un programa que pida al usuario dos números y realice las cuatro operaciones matemáticas básicas (suma, resta, multiplicación y división), imprimiendo los resultados.\n",
    "   - **Actividad 1.2**: Hacer que el programa calcule el promedio de los dos números."
   ]
  },
  {
   "cell_type": "code",
   "execution_count": 6,
   "metadata": {},
   "outputs": [
    {
     "name": "stdout",
     "output_type": "stream",
     "text": [
      "SUMA:  4\n",
      "RESTA:  0\n",
      "MULTIPLICACIÓN:  4\n",
      "DIVISIÓN:  1.0\n",
      "PROMEDIO:  2.0\n"
     ]
    }
   ],
   "source": [
    "\n",
    "#1.1\n",
    "num_1 = int(input('Introduce un número: '))\n",
    "num_2 = int(input('Introduce otro número: '))\n",
    "\n",
    "print('SUMA: ', num_1 + num_2)\n",
    "print('RESTA: ', num_1 - num_2)\n",
    "print('MULTIPLICACIÓN: ', num_1 * num_2)\n",
    "print('DIVISIÓN: ', num_1 / num_2)\n",
    "\n",
    "#1.2\n",
    "print('PROMEDIO: ', (num_1 + num_2) / 2)"
   ]
  },
  {
   "cell_type": "markdown",
   "metadata": {},
   "source": [
    "### 3. **Condicionales (if-else)**\n",
    "\n",
    "   - **Actividad 1.1**: Escribir un programa que pida al usuario su edad y le diga si es mayor de edad (18 años o más).\n",
    "   - **Actividad 1.2**: Agregar un mensaje diferente para diferentes rangos de edad, como por ejemplo, si es un niño, adolescente o adulto."
   ]
  },
  {
   "cell_type": "code",
   "execution_count": 11,
   "metadata": {},
   "outputs": [
    {
     "name": "stdout",
     "output_type": "stream",
     "text": [
      "Eres menor de edad.\n",
      "Usted es un adolescente.\n"
     ]
    }
   ],
   "source": [
    "\n",
    "#1.1\n",
    "edad = int(input('Introduce tu edad: '))\n",
    "if edad >= 18:\n",
    "    print('Eres mayor de edad.')\n",
    "else:\n",
    "    print('Eres menor de edad.')\n",
    "\n",
    "#1.2\n",
    "if 0 < edad <= 13:\n",
    "    print('Usted es un niño.')\n",
    "elif 14 <= edad < 18:\n",
    "    print('Usted es un adolescente.')\n",
    "else:\n",
    "    print('Usted es un adulto.')\n"
   ]
  },
  {
   "cell_type": "markdown",
   "metadata": {},
   "source": [
    "### 4. **Ciclos (while, for)**\n",
    "\n",
    "   - **Actividad 1.1**: Escribir un programa que imprima los números del 1 al 10 usando un bucle `for`.\n",
    "   - **Actividad 1.2**: Usar un bucle `while` para imprimir los números del 1 al 10, e imprimir solo aquellos números que sean divisibles por 2."
   ]
  },
  {
   "cell_type": "code",
   "execution_count": null,
   "metadata": {},
   "outputs": [
    {
     "name": "stdout",
     "output_type": "stream",
     "text": [
      "1\n",
      "2\n",
      "3\n",
      "4\n",
      "5\n",
      "6\n",
      "7\n",
      "8\n",
      "9\n",
      "10\n"
     ]
    }
   ],
   "source": [
    "\n",
    "#1.1\n",
    "for i in range(1, 11):\n",
    "    print(i)\n"
   ]
  },
  {
   "cell_type": "code",
   "execution_count": 15,
   "metadata": {},
   "outputs": [
    {
     "name": "stdout",
     "output_type": "stream",
     "text": [
      "2\n",
      "4\n",
      "6\n",
      "8\n",
      "10\n"
     ]
    }
   ],
   "source": [
    "#1.2\n",
    "i = 1\n",
    "while i <= 10:\n",
    "    if i % 2 == 0:\n",
    "        print(i)\n",
    "    i += 1"
   ]
  },
  {
   "cell_type": "markdown",
   "metadata": {},
   "source": [
    "### 5. **Listas y Bucles**\n",
    "\n",
    "   - **Actividad 1.1**: Crear una lista con 5 números y escribir un programa que imprima cada número de la lista usando un bucle `for`.\n",
    "   - **Actividad 1.2**: Usar un bucle para calcular la suma de los números de la lista."
   ]
  },
  {
   "cell_type": "code",
   "execution_count": 17,
   "metadata": {},
   "outputs": [
    {
     "name": "stdout",
     "output_type": "stream",
     "text": [
      "1\n",
      "2\n",
      "3\n",
      "4\n",
      "5\n",
      "SUMA TOTAL:  15\n"
     ]
    }
   ],
   "source": [
    "\n",
    "#1.1\n",
    "list = [1, 2, 3, 4, 5]\n",
    "for i in list:\n",
    "    print(i)\n",
    "\n",
    "#1.2\n",
    "suma_total = 0\n",
    "for i in list:\n",
    "    suma_total += i\n",
    "print('SUMA TOTAL: ', suma_total)"
   ]
  },
  {
   "cell_type": "markdown",
   "metadata": {},
   "source": [
    "### 6. **Funciones**\n",
    "\n",
    "   - **Actividad 1.1**: Escribir una función llamada `saludo` que reciba un nombre como parámetro y devuelva un saludo personalizado.\n",
    "   - **Actividad 1.2**: Crear una función que reciba dos números y devuelva su suma, resta, multiplicación y división."
   ]
  },
  {
   "cell_type": "code",
   "execution_count": 19,
   "metadata": {},
   "outputs": [
    {
     "name": "stdout",
     "output_type": "stream",
     "text": [
      "Hola, Juan!\n"
     ]
    }
   ],
   "source": [
    "\n",
    "#1.1\n",
    "def saludo(nombre):\n",
    "    return 'Hola, ' + nombre + '!'\n",
    "print(saludo('Juan')) "
   ]
  },
  {
   "cell_type": "code",
   "execution_count": 32,
   "metadata": {},
   "outputs": [
    {
     "name": "stdout",
     "output_type": "stream",
     "text": [
      "Error: No se puede dividir por cero\n"
     ]
    }
   ],
   "source": [
    "#1.2\n",
    "def nums(num_1, num_2):\n",
    "    if num_2 == 0:\n",
    "        return \"Error: No se puede dividir por cero\"\n",
    "    return num_1 + num_2, num_1 - num_2, num_1 * num_2, num_1 / num_2\n",
    "print(nums(2, 0))"
   ]
  },
  {
   "cell_type": "markdown",
   "metadata": {},
   "source": [
    "### 7. **Manejo de cadenas de texto**\n",
    "\n",
    "   - **Actividad 1.1**: Escribir un programa que pida al usuario su nombre y lo imprima en mayúsculas y en minúsculas.\n",
    "   - **Actividad 1.2**: Hacer que el programa imprima la longitud del nombre ingresado (no tener en cuenta los espacios en blanco)."
   ]
  },
  {
   "cell_type": "code",
   "execution_count": null,
   "metadata": {},
   "outputs": [
    {
     "name": "stdout",
     "output_type": "stream",
     "text": [
      "LONGITUD:  9\n",
      "('JUAN PÉREZ', 'juan pérez')\n"
     ]
    }
   ],
   "source": [
    "#1.1 Y 1.2\n",
    "def nombre(nombre_usuario):\n",
    "    nombre_sin_espacios = nombre_usuario.replace(\" \", \"\")\n",
    "    longitud = len(nombre_sin_espacios)\n",
    "    print('LONGITUD: ', longitud)\n",
    "    return nombre_usuario.upper(), nombre_usuario.lower()\n",
    "print(nombre('Juan Pérez'))"
   ]
  },
  {
   "cell_type": "markdown",
   "metadata": {},
   "source": [
    "### 8. **Diccionarios**\n",
    "\n",
    "   - **Actividad1.1**: Crear un diccionario que contenga los nombres de tres personas como claves y sus edades como valores. El programa debe imprimir la edad de cada persona.\n",
    "   - **Actividad1.2**: Escribir un programa que pregunte al usuario un nombre, luego su edad y los agregue al diccionario."
   ]
  },
  {
   "cell_type": "code",
   "execution_count": null,
   "metadata": {},
   "outputs": [
    {
     "name": "stdout",
     "output_type": "stream",
     "text": [
      "Mateo tiene 25 años.\n",
      "Maxi tiene 18 años.\n",
      "Facu tiene 30 años.\n",
      "{'Mateo': 25, 'Maxi': 18, 'Facu': 30, 'gaston': 12}\n"
     ]
    }
   ],
   "source": [
    "\n",
    "#1.1\n",
    "edades = {\n",
    "    'Mateo': 25,\n",
    "    'Maxi': 18,\n",
    "    'Facu': 30\n",
    "}\n",
    "for nombre, edad in edades.items():\n",
    "    print(nombre, 'tiene', edad, 'años.')\n",
    "\n",
    "#1.2\n",
    "nombre = input('Introduce el nombre: ')\n",
    "edad = int(input('Introduce la edad: '))\n",
    "edades[nombre] = edad\n",
    "print(edades)"
   ]
  },
  {
   "cell_type": "markdown",
   "metadata": {},
   "source": [
    "### 9. **Números aleatorios**\n",
    "\n",
    "   - **Actividad 1.1**: Escribir un programa que genere 5 números aleatorios entre 1 y 100, lo imprima por consola y diga si es mayor o menor a 50.\n",
    "   - **Actividad 1.2**: Sumar los 5 números generados aleatoriamente y en caso de que el resultado sea mayor a 100, mostrar el valor antes de ser mayor a 100 y cuantos números se sumaron para llegar a dicho valor."
   ]
  },
  {
   "cell_type": "code",
   "execution_count": null,
   "metadata": {},
   "outputs": [
    {
     "name": "stdout",
     "output_type": "stream",
     "text": [
      "85 Mayor a 50\n",
      "9 Menor a 50\n",
      "68 Mayor a 50\n",
      "Suma antes de superar 100: 94\n",
      "Números sumados hasta ahora: 2\n",
      "El número 68 no se ha sumado porque supera 100.\n",
      "Suma total de los 5 números: 94\n"
     ]
    }
   ],
   "source": [
    "\n",
    "#1.1 y 1.2\n",
    "import random\n",
    "\n",
    "suma = 0\n",
    "contador = 0\n",
    "\n",
    "for num in range(5):\n",
    "    \n",
    "    numero_aleatorio = random.randint(1, 100)\n",
    "\n",
    "    if numero_aleatorio > 50:\n",
    "        print(numero_aleatorio, 'Mayor a 50')\n",
    "    elif numero_aleatorio < 50:\n",
    "        print(numero_aleatorio, 'Menor a 50')\n",
    "    else:\n",
    "        print(numero_aleatorio, 'Igual a 50')\n",
    "\n",
    "    if suma + numero_aleatorio > 100: \n",
    "        print(f\"Suma antes de superar 100: {suma}\")\n",
    "        print(f\"Números sumados hasta ahora: {contador}\")\n",
    "        print(f\"El número {numero_aleatorio} no se ha sumado porque supera 100.\")\n",
    "        break\n",
    "        \n",
    "    suma += numero_aleatorio\n",
    "    contador += 1\n",
    "\n",
    "if suma <= 100:\n",
    "    print(\"Suma total de los 5 números:\", suma)\n",
    "\n",
    "\n"
   ]
  },
  {
   "cell_type": "markdown",
   "metadata": {},
   "source": [
    "### 10. **Proyecto Final: Calculadora**\n",
    "\n",
    "   - **Actividad 1.1**: Los estudiantes deben crear una calculadora básica que permita realizar operaciones de suma, resta, multiplicación y división con entradas del usuario. El programa debe pedir al usuario que elija la operación y luego introducir 2 números para realizar el cálculo.\n",
    "   - **Actividad 1.2**: Implementar una opción para que el usuario pueda continuar haciendo cálculos o salir del programa."
   ]
  },
  {
   "cell_type": "code",
   "execution_count": null,
   "metadata": {},
   "outputs": [
    {
     "name": "stdout",
     "output_type": "stream",
     "text": [
      "\n",
      "Seleccione una operación:\n",
      "1. Suma\n",
      "2. Resta\n",
      "3. Multiplicación\n",
      "4. División\n",
      "10.0 - 5.0 = 5.0\n",
      "\n",
      "Seleccione una operación:\n",
      "1. Suma\n",
      "2. Resta\n",
      "3. Multiplicación\n",
      "4. División\n",
      "5.0 + 5.0 = 10.0\n",
      "Gracias por usar la calculadora. ¡Hasta luego!\n"
     ]
    }
   ],
   "source": [
    "#1.1 y 1.2\n",
    "def suma(a, b):\n",
    "    return a + b\n",
    "\n",
    "def resta(a, b):\n",
    "    return a - b\n",
    "\n",
    "def multiplicacion(a, b):\n",
    "    return a * b\n",
    "\n",
    "def division(a, b):\n",
    "    if b == 0:\n",
    "        return \"Error: No se puede dividir por 0\"\n",
    "    return a / b\n",
    "\n",
    "def calculadora():\n",
    "    while True:\n",
    "  \n",
    "        print(\"\\nSeleccione una operación:\")\n",
    "        print(\"1. Suma\")\n",
    "        print(\"2. Resta\")\n",
    "        print(\"3. Multiplicación\")\n",
    "        print(\"4. División\")\n",
    "\n",
    "     \n",
    "        opcion = input(\"Ingrese el número de la operación que desea realizar (1/2/3/4): \")\n",
    "\n",
    "     \n",
    "        num1 = float(input(\"Ingrese el primer número: \"))\n",
    "        num2 = float(input(\"Ingrese el segundo número: \"))\n",
    "\n",
    "       \n",
    "        if opcion == '1':\n",
    "            print(f\"{num1} + {num2} = {suma(num1, num2)}\")\n",
    "        elif opcion == '2':\n",
    "            print(f\"{num1} - {num2} = {resta(num1, num2)}\")\n",
    "        elif opcion == '3':\n",
    "            print(f\"{num1} * {num2} = {multiplicacion(num1, num2)}\")\n",
    "        elif opcion == '4':\n",
    "            print(f\"{num1} / {num2} = {division(num1, num2)}\")\n",
    "        else:\n",
    "            print(\"Opción no válida. Por favor, seleccione una operación entre 1 y 4.\")\n",
    "\n",
    "   \n",
    "        continuar = input(\"\\n¿Desea realizar otro cálculo? (s/n): \")\n",
    "        if continuar.lower() != 's':\n",
    "            print(\"Gracias por usar la calculadora. ¡Hasta luego!\")\n",
    "            break\n",
    "\n",
    "calculadora()\n"
   ]
  },
  {
   "cell_type": "markdown",
   "metadata": {},
   "source": [
    "### EXTRA. **Juegos Simples (Adivina el número)**\n",
    "\n",
    "   - **Actividad 1.1**: Escribir un juego donde el programa elija un número aleatorio entre 1 y 100 y el usuario tenga que adivinarlo. El programa debe dar pistas si el número es mayor o menor.\n",
    "   - **Actividad 1.2**: Limitar el número de intentos y mostrar un mensaje de éxito o fracaso al final."
   ]
  },
  {
   "cell_type": "code",
   "execution_count": null,
   "metadata": {},
   "outputs": [
    {
     "name": "stdout",
     "output_type": "stream",
     "text": [
      "He elegido un número entre 1 y 100. Intenta adivinarlo. Tienes 5 intentos.\n",
      "El número es mayor.\n",
      "El número es mayor.\n",
      "El número es mayor.\n",
      "El número es mayor.\n",
      "El número es menor.\n",
      "¡Lo siento! Has superado el número máximo de intentos. El número era 89.\n"
     ]
    }
   ],
   "source": [
    "import random\n",
    "\n",
    "def adivina_el_numero():\n",
    "    \n",
    "    numero_secreto = random.randint(1, 100)\n",
    "    \n",
    "  \n",
    "    print(\"He elegido un número entre 1 y 100. Intenta adivinarlo. Tienes 5 intentos.\")\n",
    "    \n",
    "  \n",
    "    intentos = 5\n",
    "    \n",
    "    while intentos > 0:\n",
    "        \n",
    "        numero_usuario = int(input(f\"Introduce un número (Te quedan {intentos} intentos): \"))\n",
    "        \n",
    "       \n",
    "        intentos -= 1\n",
    "        \n",
    "     \n",
    "        if numero_usuario < numero_secreto:\n",
    "            print(\"El número es mayor.\")\n",
    "        elif numero_usuario > numero_secreto:\n",
    "            print(\"El número es menor.\")\n",
    "        else:\n",
    "            print(f\"¡Felicidades! Has adivinado el número {numero_secreto} en {5 - intentos} intentos.\")\n",
    "            break \n",
    "        \n",
    "      \n",
    "        if intentos == 0:\n",
    "            print(f\"¡Lo siento! Has superado el número máximo de intentos. El número era {numero_secreto}.\")\n",
    "\n",
    "\n",
    "adivina_el_numero()\n"
   ]
  }
 ],
 "metadata": {
  "kernelspec": {
   "display_name": "Python 3",
   "language": "python",
   "name": "python3"
  },
  "language_info": {
   "codemirror_mode": {
    "name": "ipython",
    "version": 3
   },
   "file_extension": ".py",
   "mimetype": "text/x-python",
   "name": "python",
   "nbconvert_exporter": "python",
   "pygments_lexer": "ipython3",
   "version": "3.13.2"
  }
 },
 "nbformat": 4,
 "nbformat_minor": 2
}
